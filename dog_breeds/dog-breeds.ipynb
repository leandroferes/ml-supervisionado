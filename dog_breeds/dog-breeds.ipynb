{
 "cells": [
  {
   "cell_type": "code",
   "execution_count": 8,
   "metadata": {},
   "outputs": [],
   "source": [
    "import tarfile\n",
    "import urllib.request\n",
    "import os\n",
    "import os.path\n",
    "\n",
    "import matplotlib.pyplot as plt\n",
    "\n",
    "from keras.preprocessing.image import ImageDataGenerator\n",
    "from keras import layers\n",
    "from keras import models\n",
    "from keras import optimizers"
   ]
  },
  {
   "cell_type": "code",
   "execution_count": 2,
   "metadata": {},
   "outputs": [
    {
     "name": "stdout",
     "output_type": "stream",
     "text": [
      "Annotations: 20580\n",
      "Images: 20580\n"
     ]
    }
   ],
   "source": [
    "def untar_if_not_exists(src, dest):\n",
    "    if (not os.path.exists(dest)):\n",
    "        tar = tarfile.open(src)\n",
    "        tar.extractall()\n",
    "        tar.close()\n",
    "        \n",
    "def count_files(dir):\n",
    "    count = 0\n",
    "    for file in os.listdir(dir):\n",
    "        path=dir+\"/\"+file\n",
    "        if (os.path.isdir(path)):\n",
    "            count += count_files(path)\n",
    "        else:\n",
    "            count += 1\n",
    "    return count\n",
    "\n",
    "untar_if_not_exists(\"data/annotations.tar\", \"Annotation\")\n",
    "untar_if_not_exists(\"data/images.tar\", \"Images\")\n",
    "\n",
    "print(\"Annotations: \" + str(count_files(\"Annotation\")))\n",
    "\n",
    "\n",
    "print(\"Images: \" + str(count_files(\"Images\")))"
   ]
  },
  {
   "cell_type": "code",
   "execution_count": 3,
   "metadata": {},
   "outputs": [
    {
     "name": "stdout",
     "output_type": "stream",
     "text": [
      "Found 16508 images belonging to 120 classes.\n",
      "Found 4072 images belonging to 120 classes.\n"
     ]
    }
   ],
   "source": [
    "#iria usar from sklearn.model_selection import train_test_split\n",
    "#mas há parâmetros no próprio keras para separar os dados de treinamento dos dados de validação\n",
    "\n",
    "datagen = ImageDataGenerator(rescale=1./255, validation_split=0.2)\n",
    "\n",
    "train_images = datagen.flow_from_directory(\n",
    "    \"Images\", \n",
    "    target_size=(150, 150), \n",
    "    batch_size=20, \n",
    "    class_mode=\"categorical\", \n",
    "    subset='training')\n",
    "\n",
    "validation_images = datagen.flow_from_directory(\n",
    "    \"Images\", \n",
    "    target_size=(150, 150), \n",
    "    batch_size=20, \n",
    "    class_mode=\"categorical\", \n",
    "    subset='validation')"
   ]
  },
  {
   "cell_type": "code",
   "execution_count": 4,
   "metadata": {},
   "outputs": [
    {
     "name": "stdout",
     "output_type": "stream",
     "text": [
      "data batch shape: (20, 150, 150, 3)\n",
      "labels batch shape: (20, 120)\n"
     ]
    }
   ],
   "source": [
    "for data_batch, labels_batch in train_images:\n",
    "    print('data batch shape:', data_batch.shape)\n",
    "    print('labels batch shape:', labels_batch.shape)\n",
    "    break"
   ]
  },
  {
   "cell_type": "code",
   "execution_count": 5,
   "metadata": {
    "scrolled": true
   },
   "outputs": [
    {
     "name": "stdout",
     "output_type": "stream",
     "text": [
      "WARNING:tensorflow:From C:\\Users\\leand\\Anaconda3\\lib\\site-packages\\tensorflow\\python\\framework\\op_def_library.py:263: colocate_with (from tensorflow.python.framework.ops) is deprecated and will be removed in a future version.\n",
      "Instructions for updating:\n",
      "Colocations handled automatically by placer.\n",
      "_________________________________________________________________\n",
      "Layer (type)                 Output Shape              Param #   \n",
      "=================================================================\n",
      "conv2d_1 (Conv2D)            (None, 148, 148, 32)      896       \n",
      "_________________________________________________________________\n",
      "max_pooling2d_1 (MaxPooling2 (None, 74, 74, 32)        0         \n",
      "_________________________________________________________________\n",
      "conv2d_2 (Conv2D)            (None, 72, 72, 64)        18496     \n",
      "_________________________________________________________________\n",
      "max_pooling2d_2 (MaxPooling2 (None, 36, 36, 64)        0         \n",
      "_________________________________________________________________\n",
      "conv2d_3 (Conv2D)            (None, 34, 34, 128)       73856     \n",
      "_________________________________________________________________\n",
      "max_pooling2d_3 (MaxPooling2 (None, 17, 17, 128)       0         \n",
      "_________________________________________________________________\n",
      "conv2d_4 (Conv2D)            (None, 15, 15, 128)       147584    \n",
      "_________________________________________________________________\n",
      "max_pooling2d_4 (MaxPooling2 (None, 7, 7, 128)         0         \n",
      "_________________________________________________________________\n",
      "flatten_1 (Flatten)          (None, 6272)              0         \n",
      "_________________________________________________________________\n",
      "dense_1 (Dense)              (None, 512)               3211776   \n",
      "_________________________________________________________________\n",
      "dense_2 (Dense)              (None, 120)               61560     \n",
      "=================================================================\n",
      "Total params: 3,514,168\n",
      "Trainable params: 3,514,168\n",
      "Non-trainable params: 0\n",
      "_________________________________________________________________\n"
     ]
    }
   ],
   "source": [
    "model = models.Sequential()\n",
    "model.add(layers.Conv2D(32, (3, 3), activation='relu', input_shape=(150, 150, 3)))\n",
    "model.add(layers.MaxPooling2D((2, 2)))\n",
    "model.add(layers.Conv2D(64, (3, 3), activation='relu'))\n",
    "model.add(layers.MaxPooling2D((2, 2)))\n",
    "model.add(layers.Conv2D(128, (3, 3), activation='relu'))\n",
    "model.add(layers.MaxPooling2D((2, 2)))\n",
    "model.add(layers.Conv2D(128, (3, 3), activation='relu'))\n",
    "model.add(layers.MaxPooling2D((2, 2)))\n",
    "model.add(layers.Flatten())\n",
    "model.add(layers.Dense(512, activation='relu'))\n",
    "model.add(layers.Dense(120, activation='sigmoid'))\n",
    "model.summary()"
   ]
  },
  {
   "cell_type": "code",
   "execution_count": 6,
   "metadata": {},
   "outputs": [],
   "source": [
    "model.compile(optimizer=optimizers.RMSprop(lr=1e-4), loss='categorical_crossentropy', metrics=['acc'])"
   ]
  },
  {
   "cell_type": "code",
   "execution_count": 7,
   "metadata": {},
   "outputs": [
    {
     "name": "stdout",
     "output_type": "stream",
     "text": [
      "WARNING:tensorflow:From C:\\Users\\leand\\Anaconda3\\lib\\site-packages\\tensorflow\\python\\ops\\math_ops.py:3066: to_int32 (from tensorflow.python.ops.math_ops) is deprecated and will be removed in a future version.\n",
      "Instructions for updating:\n",
      "Use tf.cast instead.\n",
      "Epoch 1/50\n",
      "100/100 [==============================] - 40s 401ms/step - loss: 4.7887 - acc: 0.0110 - val_loss: 4.7813 - val_acc: 0.0110\n",
      "Epoch 2/50\n",
      "100/100 [==============================] - 38s 384ms/step - loss: 4.7859 - acc: 0.0090 - val_loss: 4.7812 - val_acc: 0.0100\n",
      "Epoch 3/50\n",
      "100/100 [==============================] - 39s 387ms/step - loss: 4.7828 - acc: 0.0120 - val_loss: 4.7708 - val_acc: 0.0110\n",
      "Epoch 4/50\n",
      "100/100 [==============================] - 38s 384ms/step - loss: 4.7600 - acc: 0.0210 - val_loss: 4.7382 - val_acc: 0.0190\n",
      "Epoch 5/50\n",
      "100/100 [==============================] - 39s 386ms/step - loss: 4.7053 - acc: 0.0225 - val_loss: 4.6673 - val_acc: 0.0292\n",
      "Epoch 6/50\n",
      "100/100 [==============================] - 39s 390ms/step - loss: 4.6393 - acc: 0.0245 - val_loss: 4.6175 - val_acc: 0.0250\n",
      "Epoch 7/50\n",
      "100/100 [==============================] - 39s 387ms/step - loss: 4.5673 - acc: 0.0285 - val_loss: 4.5864 - val_acc: 0.0270\n",
      "Epoch 8/50\n",
      "100/100 [==============================] - 38s 384ms/step - loss: 4.5123 - acc: 0.0365 - val_loss: 4.4877 - val_acc: 0.0440\n",
      "Epoch 9/50\n",
      "100/100 [==============================] - 39s 386ms/step - loss: 4.4454 - acc: 0.0355 - val_loss: 4.5136 - val_acc: 0.0363\n",
      "Epoch 10/50\n",
      "100/100 [==============================] - 38s 383ms/step - loss: 4.4058 - acc: 0.0465 - val_loss: 4.4657 - val_acc: 0.0450\n",
      "Epoch 11/50\n",
      "100/100 [==============================] - 38s 382ms/step - loss: 4.3499 - acc: 0.0540 - val_loss: 4.4280 - val_acc: 0.0520\n",
      "Epoch 12/50\n",
      "100/100 [==============================] - 39s 387ms/step - loss: 4.3708 - acc: 0.0520 - val_loss: 4.4140 - val_acc: 0.0400\n",
      "Epoch 13/50\n",
      "100/100 [==============================] - 38s 384ms/step - loss: 4.2939 - acc: 0.0630 - val_loss: 4.3639 - val_acc: 0.0484\n",
      "Epoch 14/50\n",
      "100/100 [==============================] - 39s 387ms/step - loss: 4.2916 - acc: 0.0660 - val_loss: 4.3729 - val_acc: 0.0600\n",
      "Epoch 15/50\n",
      "100/100 [==============================] - 38s 384ms/step - loss: 4.2707 - acc: 0.0605 - val_loss: 4.3721 - val_acc: 0.0490\n",
      "Epoch 16/50\n",
      "100/100 [==============================] - 38s 384ms/step - loss: 4.2715 - acc: 0.0590 - val_loss: 4.2843 - val_acc: 0.0560\n",
      "Epoch 17/50\n",
      "100/100 [==============================] - 38s 382ms/step - loss: 4.1960 - acc: 0.0697 - val_loss: 4.3527 - val_acc: 0.0524\n",
      "Epoch 18/50\n",
      "100/100 [==============================] - 38s 384ms/step - loss: 4.0981 - acc: 0.0880 - val_loss: 4.3444 - val_acc: 0.0570\n",
      "Epoch 19/50\n",
      "100/100 [==============================] - 38s 384ms/step - loss: 4.0920 - acc: 0.0735 - val_loss: 4.3005 - val_acc: 0.0650\n",
      "Epoch 20/50\n",
      "100/100 [==============================] - 38s 384ms/step - loss: 4.0821 - acc: 0.0990 - val_loss: 4.3725 - val_acc: 0.0600\n",
      "Epoch 21/50\n",
      "100/100 [==============================] - 38s 384ms/step - loss: 4.0877 - acc: 0.0820 - val_loss: 4.1834 - val_acc: 0.0706\n",
      "Epoch 22/50\n",
      "100/100 [==============================] - 39s 385ms/step - loss: 4.0495 - acc: 0.1005 - val_loss: 4.2861 - val_acc: 0.0660\n",
      "Epoch 23/50\n",
      "100/100 [==============================] - 38s 384ms/step - loss: 4.0698 - acc: 0.0865 - val_loss: 4.2848 - val_acc: 0.0700\n",
      "Epoch 24/50\n",
      "100/100 [==============================] - 39s 386ms/step - loss: 4.0498 - acc: 0.0960 - val_loss: 4.2572 - val_acc: 0.0650\n",
      "Epoch 25/50\n",
      "100/100 [==============================] - 39s 386ms/step - loss: 3.9806 - acc: 0.1020 - val_loss: 4.2741 - val_acc: 0.0756\n",
      "Epoch 26/50\n",
      "100/100 [==============================] - 39s 388ms/step - loss: 3.8451 - acc: 0.1300 - val_loss: 4.2491 - val_acc: 0.0700\n",
      "Epoch 27/50\n",
      "100/100 [==============================] - 39s 391ms/step - loss: 3.8528 - acc: 0.1345 - val_loss: 4.2878 - val_acc: 0.0820\n",
      "Epoch 28/50\n",
      "100/100 [==============================] - 39s 388ms/step - loss: 3.8583 - acc: 0.1345 - val_loss: 4.2926 - val_acc: 0.0680\n",
      "Epoch 29/50\n",
      "100/100 [==============================] - 39s 387ms/step - loss: 3.8626 - acc: 0.1290 - val_loss: 4.3954 - val_acc: 0.0756\n",
      "Epoch 30/50\n",
      "100/100 [==============================] - 39s 392ms/step - loss: 3.8875 - acc: 0.1425 - val_loss: 4.2921 - val_acc: 0.0820\n",
      "Epoch 31/50\n",
      "100/100 [==============================] - 39s 390ms/step - loss: 3.8765 - acc: 0.1300 - val_loss: 4.3441 - val_acc: 0.0800\n",
      "Epoch 32/50\n",
      "100/100 [==============================] - 39s 389ms/step - loss: 3.9471 - acc: 0.1160 - val_loss: 4.2680 - val_acc: 0.0820\n",
      "Epoch 33/50\n",
      "100/100 [==============================] - 39s 387ms/step - loss: nan - acc: 0.0440 - val_loss: nan - val_acc: 0.0101\n",
      "Epoch 34/50\n",
      "100/100 [==============================] - 38s 383ms/step - loss: nan - acc: 0.0030 - val_loss: nan - val_acc: 0.0130\n",
      "Epoch 35/50\n",
      "100/100 [==============================] - 38s 383ms/step - loss: nan - acc: 0.0080 - val_loss: nan - val_acc: 0.0050\n",
      "Epoch 36/50\n",
      "100/100 [==============================] - 38s 384ms/step - loss: nan - acc: 0.0070 - val_loss: nan - val_acc: 0.0030\n",
      "Epoch 37/50\n",
      "100/100 [==============================] - 38s 383ms/step - loss: nan - acc: 0.0085 - val_loss: nan - val_acc: 0.0040\n",
      "Epoch 38/50\n",
      "100/100 [==============================] - 38s 383ms/step - loss: nan - acc: 0.0065 - val_loss: nan - val_acc: 0.0060\n",
      "Epoch 39/50\n",
      "100/100 [==============================] - 38s 384ms/step - loss: nan - acc: 0.0075 - val_loss: nan - val_acc: 0.0090\n",
      "Epoch 40/50\n",
      "100/100 [==============================] - 38s 382ms/step - loss: nan - acc: 0.0090 - val_loss: nan - val_acc: 0.0070\n",
      "Epoch 41/50\n",
      "100/100 [==============================] - 38s 381ms/step - loss: nan - acc: 0.0075 - val_loss: nan - val_acc: 0.0081\n",
      "Epoch 42/50\n",
      "100/100 [==============================] - 38s 381ms/step - loss: nan - acc: 0.0100 - val_loss: nan - val_acc: 0.0050\n",
      "Epoch 43/50\n",
      "100/100 [==============================] - 38s 383ms/step - loss: nan - acc: 0.0080 - val_loss: nan - val_acc: 0.0090\n",
      "Epoch 44/50\n",
      "100/100 [==============================] - 39s 387ms/step - loss: nan - acc: 0.0090 - val_loss: nan - val_acc: 0.0110\n",
      "Epoch 45/50\n",
      "100/100 [==============================] - 43s 428ms/step - loss: nan - acc: 0.0060 - val_loss: nan - val_acc: 0.0040\n",
      "Epoch 46/50\n",
      "100/100 [==============================] - 43s 435ms/step - loss: nan - acc: 0.0075 - val_loss: nan - val_acc: 0.0030\n",
      "Epoch 47/50\n",
      "100/100 [==============================] - 41s 412ms/step - loss: nan - acc: 0.0065 - val_loss: nan - val_acc: 0.0110\n",
      "Epoch 48/50\n",
      "100/100 [==============================] - 38s 385ms/step - loss: nan - acc: 0.0085 - val_loss: nan - val_acc: 0.0070\n",
      "Epoch 49/50\n",
      "100/100 [==============================] - 38s 383ms/step - loss: nan - acc: 0.0075 - val_loss: nan - val_acc: 0.0101\n",
      "Epoch 50/50\n",
      "100/100 [==============================] - 38s 383ms/step - loss: nan - acc: 0.0050 - val_loss: nan - val_acc: 0.0060\n"
     ]
    }
   ],
   "source": [
    "history = model.fit_generator(train_images,\n",
    "    steps_per_epoch=100,\n",
    "    epochs=50,\n",
    "    validation_data=validation_images,\n",
    "    validation_steps=50)"
   ]
  },
  {
   "cell_type": "code",
   "execution_count": 9,
   "metadata": {},
   "outputs": [
    {
     "data": {
      "image/png": "[encoded data removed]",
      "text/plain": [
       "<Figure size 432x288 with 1 Axes>"
      ]
     },
     "metadata": {
      "needs_background": "light"
     },
     "output_type": "display_data"
    },
    {
     "data": {
      "image/png": "[encoded data removed]",
      "text/plain": [
       "<Figure size 432x288 with 1 Axes>"
      ]
     },
     "metadata": {
      "needs_background": "light"
     },
     "output_type": "display_data"
    }
   ],
   "source": [
    "acc = history.history['acc']\n",
    "val_acc = history.history['val_acc']\n",
    "\n",
    "loss = history.history['loss']\n",
    "val_loss = history.history['val_loss']\n",
    "\n",
    "epochs = range(1, len(acc) + 1)\n",
    "plt.plot(epochs, acc, 'bo', label='Training acc')\n",
    "plt.plot(epochs, val_acc, 'b', label='Validation acc')\n",
    "plt.title('Training and validation accuracy')\n",
    "plt.legend()\n",
    "plt.figure()\n",
    "\n",
    "plt.plot(epochs, loss, 'bo', label='Training loss')\n",
    "plt.plot(epochs, val_loss, 'b', label='Validation loss')\n",
    "plt.title('Training and validation loss')\n",
    "plt.legend()\n",
    "plt.show()"
   ]
  },
  {
   "cell_type": "code",
   "execution_count": null,
   "metadata": {},
   "outputs": [],
   "source": []
  }
 ],
 "metadata": {
  "kernelspec": {
   "display_name": "Python 3",
   "language": "python",
   "name": "python3"
  },
  "language_info": {
   "codemirror_mode": {
    "name": "ipython",
    "version": 3
   },
   "file_extension": ".py",
   "mimetype": "text/x-python",
   "name": "python",
   "nbconvert_exporter": "python",
   "pygments_lexer": "ipython3",
   "version": "3.7.3"
  }
 },
 "nbformat": 4,
 "nbformat_minor": 2
}
