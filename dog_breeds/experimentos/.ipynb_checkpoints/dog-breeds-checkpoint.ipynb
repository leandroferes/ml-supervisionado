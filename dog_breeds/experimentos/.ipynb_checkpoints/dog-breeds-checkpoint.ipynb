{
 "cells": [
  {
   "cell_type": "code",
   "execution_count": 1,
   "metadata": {},
   "outputs": [
    {
     "name": "stderr",
     "output_type": "stream",
     "text": [
      "Using TensorFlow backend.\n"
     ]
    }
   ],
   "source": [
    "import tarfile\n",
    "import urllib.request\n",
    "import os\n",
    "import os.path\n",
    "\n",
    "import matplotlib.pyplot as plt\n",
    "\n",
    "from keras.preprocessing.image import ImageDataGenerator\n",
    "from keras import layers\n",
    "from keras import models\n",
    "from keras import optimizers"
   ]
  },
  {
   "cell_type": "code",
   "execution_count": 2,
   "metadata": {},
   "outputs": [
    {
     "name": "stdout",
     "output_type": "stream",
     "text": [
      "Annotations: 20580\n",
      "Images: 20580\n"
     ]
    }
   ],
   "source": [
    "def untar_if_not_exists(src, dest):\n",
    "    if (not os.path.exists(dest)):\n",
    "        tar = tarfile.open(src)\n",
    "        tar.extractall()\n",
    "        tar.close()\n",
    "        \n",
    "def count_files(dir):\n",
    "    count = 0\n",
    "    for file in os.listdir(dir):\n",
    "        path=dir+\"/\"+file\n",
    "        if (os.path.isdir(path)):\n",
    "            count += count_files(path)\n",
    "        else:\n",
    "            count += 1\n",
    "    return count\n",
    "\n",
    "untar_if_not_exists(\"data/annotations.tar\", \"Annotation\")\n",
    "untar_if_not_exists(\"data/images.tar\", \"Images\")\n",
    "\n",
    "print(\"Annotations: \" + str(count_files(\"Annotation\")))\n",
    "\n",
    "\n",
    "print(\"Images: \" + str(count_files(\"Images\")))"
   ]
  },
  {
   "cell_type": "code",
   "execution_count": 3,
   "metadata": {},
   "outputs": [
    {
     "name": "stdout",
     "output_type": "stream",
     "text": [
      "Found 16508 images belonging to 120 classes.\n",
      "Found 4072 images belonging to 120 classes.\n"
     ]
    }
   ],
   "source": [
    "#iria usar from sklearn.model_selection import train_test_split\n",
    "#mas há parâmetros no próprio keras para separar os dados de treinamento dos dados de validação\n",
    "\n",
    "datagen = ImageDataGenerator(rescale=1./255, validation_split=0.2)\n",
    "\n",
    "train_images = datagen.flow_from_directory(\n",
    "    \"Images\", \n",
    "    target_size=(150, 150), \n",
    "    batch_size=20, \n",
    "    class_mode=\"categorical\", \n",
    "    subset='training')\n",
    "\n",
    "validation_images = datagen.flow_from_directory(\n",
    "    \"Images\", \n",
    "    target_size=(150, 150), \n",
    "    batch_size=20, \n",
    "    class_mode=\"categorical\", \n",
    "    subset='validation')"
   ]
  },
  {
   "cell_type": "code",
   "execution_count": 4,
   "metadata": {},
   "outputs": [
    {
     "name": "stdout",
     "output_type": "stream",
     "text": [
      "data batch shape: (20, 150, 150, 3)\n",
      "labels batch shape: (20, 120)\n"
     ]
    }
   ],
   "source": [
    "for data_batch, labels_batch in train_images:\n",
    "    print('data batch shape:', data_batch.shape)\n",
    "    print('labels batch shape:', labels_batch.shape)\n",
    "    break"
   ]
  },
  {
   "cell_type": "code",
   "execution_count": 5,
   "metadata": {
    "scrolled": true
   },
   "outputs": [
    {
     "name": "stdout",
     "output_type": "stream",
     "text": [
      "WARNING:tensorflow:From C:\\Users\\leand\\Anaconda3\\lib\\site-packages\\tensorflow\\python\\framework\\op_def_library.py:263: colocate_with (from tensorflow.python.framework.ops) is deprecated and will be removed in a future version.\n",
      "Instructions for updating:\n",
      "Colocations handled automatically by placer.\n",
      "_________________________________________________________________\n",
      "Layer (type)                 Output Shape              Param #   \n",
      "=================================================================\n",
      "conv2d_1 (Conv2D)            (None, 148, 148, 32)      896       \n",
      "_________________________________________________________________\n",
      "max_pooling2d_1 (MaxPooling2 (None, 74, 74, 32)        0         \n",
      "_________________________________________________________________\n",
      "conv2d_2 (Conv2D)            (None, 72, 72, 64)        18496     \n",
      "_________________________________________________________________\n",
      "max_pooling2d_2 (MaxPooling2 (None, 36, 36, 64)        0         \n",
      "_________________________________________________________________\n",
      "conv2d_3 (Conv2D)            (None, 34, 34, 128)       73856     \n",
      "_________________________________________________________________\n",
      "max_pooling2d_3 (MaxPooling2 (None, 17, 17, 128)       0         \n",
      "_________________________________________________________________\n",
      "conv2d_4 (Conv2D)            (None, 15, 15, 128)       147584    \n",
      "_________________________________________________________________\n",
      "max_pooling2d_4 (MaxPooling2 (None, 7, 7, 128)         0         \n",
      "_________________________________________________________________\n",
      "flatten_1 (Flatten)          (None, 6272)              0         \n",
      "_________________________________________________________________\n",
      "dense_1 (Dense)              (None, 512)               3211776   \n",
      "_________________________________________________________________\n",
      "dense_2 (Dense)              (None, 120)               61560     \n",
      "=================================================================\n",
      "Total params: 3,514,168\n",
      "Trainable params: 3,514,168\n",
      "Non-trainable params: 0\n",
      "_________________________________________________________________\n"
     ]
    }
   ],
   "source": [
    "model = models.Sequential()\n",
    "model.add(layers.Conv2D(32, (3, 3), activation='relu', input_shape=(150, 150, 3)))\n",
    "model.add(layers.MaxPooling2D((2, 2)))\n",
    "model.add(layers.Conv2D(64, (3, 3), activation='relu'))\n",
    "model.add(layers.MaxPooling2D((2, 2)))\n",
    "model.add(layers.Conv2D(128, (3, 3), activation='relu'))\n",
    "model.add(layers.MaxPooling2D((2, 2)))\n",
    "model.add(layers.Conv2D(128, (3, 3), activation='relu'))\n",
    "model.add(layers.MaxPooling2D((2, 2)))\n",
    "model.add(layers.Flatten())\n",
    "model.add(layers.Dense(512, activation='relu'))\n",
    "model.add(layers.Dense(120, activation='sigmoid'))\n",
    "model.summary()"
   ]
  },
  {
   "cell_type": "code",
   "execution_count": 6,
   "metadata": {},
   "outputs": [],
   "source": [
    "model.compile(optimizer=optimizers.RMSprop(lr=1e-4), loss='categorical_crossentropy', metrics=['acc'])"
   ]
  },
  {
   "cell_type": "code",
   "execution_count": 7,
   "metadata": {},
   "outputs": [
    {
     "name": "stdout",
     "output_type": "stream",
     "text": [
      "WARNING:tensorflow:From C:\\Users\\leand\\Anaconda3\\lib\\site-packages\\tensorflow\\python\\ops\\math_ops.py:3066: to_int32 (from tensorflow.python.ops.math_ops) is deprecated and will be removed in a future version.\n",
      "Instructions for updating:\n",
      "Use tf.cast instead.\n",
      "Epoch 1/10\n",
      "100/100 [==============================] - 39s 393ms/step - loss: 4.7856 - acc: 0.0115 - val_loss: 4.7805 - val_acc: 0.0130\n",
      "Epoch 2/10\n",
      "100/100 [==============================] - 38s 383ms/step - loss: 4.7841 - acc: 0.0110 - val_loss: 4.7795 - val_acc: 0.0150\n",
      "Epoch 3/10\n",
      "100/100 [==============================] - 38s 383ms/step - loss: 4.7799 - acc: 0.0160 - val_loss: 4.7621 - val_acc: 0.0190\n",
      "Epoch 4/10\n",
      "100/100 [==============================] - 39s 386ms/step - loss: 4.7548 - acc: 0.0175 - val_loss: 4.7299 - val_acc: 0.0170\n",
      "Epoch 5/10\n",
      "100/100 [==============================] - 39s 385ms/step - loss: 4.7020 - acc: 0.0265 - val_loss: 4.6675 - val_acc: 0.0262\n",
      "Epoch 6/10\n",
      "100/100 [==============================] - 39s 387ms/step - loss: 4.6372 - acc: 0.0245 - val_loss: 4.5585 - val_acc: 0.0360\n",
      "Epoch 7/10\n",
      "100/100 [==============================] - 39s 385ms/step - loss: 4.5659 - acc: 0.0360 - val_loss: 4.5591 - val_acc: 0.0280\n",
      "Epoch 8/10\n",
      "100/100 [==============================] - 38s 383ms/step - loss: 4.5110 - acc: 0.0390 - val_loss: 4.5204 - val_acc: 0.0310\n",
      "Epoch 9/10\n",
      "100/100 [==============================] - 39s 386ms/step - loss: 4.4193 - acc: 0.0410 - val_loss: 4.4850 - val_acc: 0.0444\n",
      "Epoch 10/10\n",
      "100/100 [==============================] - 39s 386ms/step - loss: 4.3786 - acc: 0.0510 - val_loss: 4.4273 - val_acc: 0.0330\n"
     ]
    }
   ],
   "source": [
    "history = model.fit_generator(train_images,\n",
    "    steps_per_epoch=100,\n",
    "    epochs=10,\n",
    "    validation_data=validation_images,\n",
    "    validation_steps=50)"
   ]
  },
  {
   "cell_type": "code",
   "execution_count": 8,
   "metadata": {},
   "outputs": [
    {
     "data": {
      "image/png": "[encoded data removed]",
      "text/plain": [
       "<Figure size 432x288 with 1 Axes>"
      ]
     },
     "metadata": {
      "needs_background": "light"
     },
     "output_type": "display_data"
    },
    {
     "data": {
      "image/png": "[encoded data removed]",
      "text/plain": [
       "<Figure size 432x288 with 1 Axes>"
      ]
     },
     "metadata": {
      "needs_background": "light"
     },
     "output_type": "display_data"
    }
   ],
   "source": [
    "acc = history.history['acc']\n",
    "val_acc = history.history['val_acc']\n",
    "\n",
    "loss = history.history['loss']\n",
    "val_loss = history.history['val_loss']\n",
    "\n",
    "epochs = range(1, len(acc) + 1)\n",
    "plt.plot(epochs, acc, 'c', label='Training acc')\n",
    "plt.plot(epochs, val_acc, 'b', label='Validation acc')\n",
    "plt.title('Training and validation accuracy')\n",
    "plt.legend()\n",
    "plt.figure()\n",
    "\n",
    "plt.plot(epochs, loss, 'c', label='Training loss')\n",
    "plt.plot(epochs, val_loss, 'b', label='Validation loss')\n",
    "plt.title('Training and validation loss')\n",
    "plt.legend()\n",
    "plt.show()"
   ]
  },
  {
   "cell_type": "code",
   "execution_count": null,
   "metadata": {},
   "outputs": [],
   "source": []
  }
 ],
 "metadata": {
  "kernelspec": {
   "display_name": "Python 3",
   "language": "python",
   "name": "python3"
  },
  "language_info": {
   "codemirror_mode": {
    "name": "ipython",
    "version": 3
   },
   "file_extension": ".py",
   "mimetype": "text/x-python",
   "name": "python",
   "nbconvert_exporter": "python",
   "pygments_lexer": "ipython3",
   "version": "3.7.3"
  }
 },
 "nbformat": 4,
 "nbformat_minor": 2
}
